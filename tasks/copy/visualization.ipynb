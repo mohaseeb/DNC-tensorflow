{
 "cells": [
  {
   "cell_type": "code",
   "execution_count": 1,
   "metadata": {
    "collapsed": true
   },
   "outputs": [],
   "source": [
    "import os\n",
    "import sys\n",
    "import itertools\n",
    "import numpy as np\n",
    "import tensorflow as tf\n",
    "import matplotlib.pyplot as plt\n",
    "import matplotlib.patches as mpatches\n",
    "import matplotlib.gridspec as gridspec\n",
    "from mpl_toolkits.axes_grid1 import make_axes_locatable\n",
    "\n",
    "from dnc.dnc import DNC\n",
    "from feedforward_controller import FeedforwardController\n",
    "\n",
    "%matplotlib inline\n",
    "plt.rcParams['figure.figsize'] = (10, 15)"
   ]
  },
  {
   "cell_type": "code",
   "execution_count": 2,
   "metadata": {
    "collapsed": true
   },
   "outputs": [],
   "source": [
    "def generate_data(batch_size, length, size):\n",
    "\n",
    "    input_data = np.zeros((batch_size, 2 * length + 1, size), dtype=np.float32)\n",
    "    target_output = np.zeros((batch_size, 2 * length + 1, size), dtype=np.float32)\n",
    "\n",
    "    sequence = np.random.binomial(1, 0.5, (batch_size, length, size - 1))\n",
    "\n",
    "    input_data[:, :length, :size - 1] = sequence\n",
    "    input_data[:, length, -1] = 1  # the end symbol\n",
    "    target_output[:, length + 1:, :size - 1] = sequence\n",
    "    \n",
    "    return input_data, target_output"
   ]
  },
  {
   "cell_type": "code",
   "execution_count": 3,
   "metadata": {
    "collapsed": true
   },
   "outputs": [],
   "source": [
    "def binary_cross_entropy(predictions, targets):\n",
    "\n",
    "    return tf.reduce_mean(\n",
    "        -1 * targets * tf.log(predictions) - (1 - targets) * tf.log(1 - predictions)\n",
    "    )"
   ]
  },
  {
   "cell_type": "code",
   "execution_count": 4,
   "metadata": {
    "collapsed": true
   },
   "outputs": [],
   "source": [
    "def visualize_op(input_series, dnc_output, memory_view):\n",
    "    \n",
    "    gs = gridspec.GridSpec(48, 1, hspace=0)\n",
    "\n",
    "    ww_strip = np.squeeze(memory_view['write_weightings'])\n",
    "    rw_strip = np.squeeze(memory_view['read_weightings'])\n",
    "    colored_write = np.zeros((ww_strip.shape[0], ww_strip.shape[1], 3))\n",
    "    colored_read = np.zeros((rw_strip.shape[0], rw_strip.shape[1], 3))\n",
    "    for i in range(ww_strip.shape[0]):\n",
    "        for j in range(ww_strip.shape[1]):\n",
    "            colored_read[i, j] = [rw_strip[i,j], 0., 0.]\n",
    "            colored_write[i, j] = [0., ww_strip[i,j], 0.]\n",
    "        \n",
    "    free_strip = np.vstack([np.squeeze(memory_view['free_gates'])] * 5)\n",
    "    allocation_strip = np.vstack([np.squeeze(memory_view['allocation_gates'])] * 5)\n",
    "\n",
    "\n",
    "    iax = plt.subplot(gs[0:5, 0])\n",
    "    oax = plt.subplot(gs[7:12, 0])\n",
    "    memax = plt.subplot(gs[14:24, 0])\n",
    "    fax = plt.subplot(gs[26:31, 0])\n",
    "    aax = plt.subplot(gs[31:36, 0])\n",
    "    uax = plt.subplot(gs[38:, 0])\n",
    "\n",
    "    iax.grid(True, color='gray')\n",
    "    oax.grid(True, color='gray')\n",
    "    memax.grid(True, color='gray', axis='x')\n",
    "    fax.grid(True, color='gray')\n",
    "    aax.grid(True, color='gray')\n",
    "    uax.grid(True, color='gray', axis='x')\n",
    "        \n",
    "    iax.imshow(np.squeeze(input_series.T), cmap=plt.cm.gray, interpolation='nearest')\n",
    "    iax.set_ylabel(\"Inputs\")\n",
    "    iax.set_yticks([])\n",
    "    iax.set_xticks([-0.5, 5.5, 10.5, 16.5, 21.5, 27.5, 32.5, 38.5, 43.5])\n",
    "    iax.set_xticklabels([0, 6, 11, 17, 22, 28, 33, 39, 44])\n",
    "\n",
    "    oax.imshow(np.squeeze(dnc_output.T), cmap=plt.cm.gray, interpolation='nearest')\n",
    "    oax.set_ylabel(\"Outputs\")\n",
    "    oax.set_yticks([])\n",
    "    oax.set_xticks([-0.5, 5.5, 10.5, 16.5, 21.5, 27.5, 32.5, 38.5, 43.5])\n",
    "    oax.set_xticklabels([0, 6, 11, 17, 22, 28, 33, 39, 44])\n",
    "\n",
    "    memax.imshow(np.transpose(colored_write + colored_read, [1, 0, 2]), interpolation='nearest')\n",
    "    memax.set_ylabel(\"Memory Location\")\n",
    "    memax.set_xticks([-0.5, 5.5, 10.5, 16.5, 21.5, 27.5, 32.5, 38.5, 43.5])\n",
    "    memax.set_xticklabels([0, 6, 11, 17, 22, 28, 33, 39, 44])\n",
    "    write_legend = mpatches.Rectangle((1,1), 1, 1, color='green', label='Write Head')\n",
    "    read_legend = mpatches.Rectangle((1,1), 1, 1, color='red', label='Read Head')\n",
    "    memax.legend(bbox_to_anchor=(0.21, -0.1), handles=[write_legend, read_legend])\n",
    "\n",
    "    fax.imshow(free_strip, cmap=plt.cm.gray, interpolation='nearest')\n",
    "    fax.set_ylabel(\"Free Gate\")\n",
    "    fax.set_yticks([])\n",
    "    fax.set_xticks([-0.5, 5.5, 10.5, 16.5, 21.5, 27.5, 32.5, 38.5, 43.5])\n",
    "    fax.set_xticklabels([0, 6, 11, 17, 22, 28, 33, 39, 44])\n",
    "\n",
    "    aax.imshow(allocation_strip, cmap=plt.cm.gray, interpolation='nearest')\n",
    "    aax.set_ylabel(\"Alloc. Gate\")\n",
    "    aax.set_yticks([])\n",
    "    aax.set_xticks([-0.5, 5.5, 10.5, 16.5, 21.5, 27.5, 32.5, 38.5, 43.5])\n",
    "    aax.set_xticklabels([0, 6, 11, 17, 22, 28, 33, 39, 44])\n",
    "\n",
    "    uax.imshow(np.squeeze(memory_view['usage_vectors'].T), cmap=plt.cm.gray, interpolation='nearest')\n",
    "    uax.set_ylabel(\"Memory Locations Usage\")\n",
    "    uax.set_xticks([-0.5, 5.5, 10.5, 16.5, 21.5, 27.5, 32.5, 38.5, 43.5])\n",
    "    uax.set_xticklabels([0, 6, 11, 17, 22, 28, 33, 39, 44])\n",
    "    uax.set_xlabel(\"Time\")"
   ]
  },
  {
   "cell_type": "markdown",
   "metadata": {},
   "source": [
    "# Dynamic Memory Mechanisms\n",
    "\n",
    "## Trained on Length-2 Series"
   ]
  },
  {
   "cell_type": "code",
   "execution_count": 25,
   "metadata": {
    "collapsed": false
   },
   "outputs": [
    {
     "name": "stdout",
     "output_type": "stream",
     "text": [
      "INFO:tensorflow:Restoring parameters from checkpoints/model-series-2/model.ckpt\n"
     ]
    }
   ],
   "source": [
    "ckpts_dir = os.path.join(os.path.dirname(\"__file__\"), 'checkpoints')\n",
    "\n",
    "tf.reset_default_graph()\n",
    "session = tf.InteractiveSession()\n",
    "\n",
    "ncomputer = DNC(\n",
    "    FeedforwardController,\n",
    "    input_size=6,\n",
    "    output_size=6,\n",
    "    max_sequence_length=44,\n",
    "    memory_words_num=10,\n",
    "    memory_word_size=10,\n",
    "    memory_read_heads=1,\n",
    "    batch_size=1\n",
    ")\n",
    "\n",
    "ncomputer.restore(session, ckpts_dir, 'model-series-2')"
   ]
  },
  {
   "cell_type": "code",
   "execution_count": 26,
   "metadata": {
    "collapsed": false
   },
   "outputs": [],
   "source": [
    "outputs, memory_views = ncomputer.get_outputs()\n",
    "squashed_output = tf.sigmoid(outputs)\n",
    "clipped_output = tf.clip_by_value(squashed_output, 1e-6, 1. - 1e-6)\n",
    "\n",
    "loss = binary_cross_entropy(clipped_output, ncomputer.target_output)"
   ]
  },
  {
   "cell_type": "markdown",
   "metadata": {},
   "source": [
    "### Accuracy on Length-4 Series"
   ]
  },
  {
   "cell_type": "code",
   "execution_count": 27,
   "metadata": {
    "collapsed": false
   },
   "outputs": [
    {
     "name": "stdout",
     "output_type": "stream",
     "text": [
      "Avg. Accuracy: 0.0000\n",
      "Avg. Loss: 0.9864\n"
     ]
    }
   ],
   "source": [
    "losses = []\n",
    "matches = []\n",
    "inputs = []\n",
    "outputs = []\n",
    "views = []\n",
    "\n",
    "for i in range(1000):\n",
    "    \n",
    "    in_sequences = []\n",
    "    out_sequences = []\n",
    "    \n",
    "    for k in range(4):\n",
    "        input_data, target_output = generate_data(1, 5, 6)\n",
    "        in_sequences.append(input_data)\n",
    "        out_sequences.append(target_output)\n",
    "    \n",
    "    one_big_input = np.concatenate(in_sequences, axis=1)\n",
    "    one_big_output = np.concatenate(out_sequences, axis=1)\n",
    "\n",
    "    l, o, v = session.run([\n",
    "        loss,\n",
    "        squashed_output,\n",
    "        memory_views\n",
    "    ], feed_dict={\n",
    "        ncomputer.input_data: one_big_input,\n",
    "        ncomputer.target_output: one_big_output,\n",
    "        ncomputer.sequence_length: 44\n",
    "    })\n",
    "    \n",
    "    losses.append(l)\n",
    "    inputs.append(one_big_input)\n",
    "    outputs.append(o)\n",
    "    views.append(v)\n",
    "    matches.append(np.allclose(one_big_output, np.around(o)))\n",
    "\n",
    "print(\"Avg. Accuracy: %.4f\" % (np.mean(matches)))\n",
    "print(\"Avg. Loss: %.4f\" % (np.mean(losses)))"
   ]
  },
  {
   "cell_type": "markdown",
   "metadata": {},
   "source": [
    "### Visualization on Length-4 Series\n",
    "\n",
    "#### Best (aka, least loss) Run"
   ]
  },
  {
   "cell_type": "code",
   "execution_count": 28,
   "metadata": {
    "collapsed": false
   },
   "outputs": [
    {
     "name": "stdout",
     "output_type": "stream",
     "text": [
      "0.460195\n"
     ]
    },
    {
     "data": {
      "image/png": "[encoded data removed]",
      "text/plain": [
       "<matplotlib.figure.Figure at 0x7f65b5a4f550>"
      ]
     },
     "metadata": {},
     "output_type": "display_data"
    }
   ],
   "source": [
    "best_indx = np.argmin(losses)\n",
    "print(losses[best_indx])\n",
    "best_input, best_output, best_memview = inputs[best_indx], outputs[best_indx], views[best_indx]\n",
    "\n",
    "visualize_op(best_input, best_output, best_memview)"
   ]
  },
  {
   "cell_type": "markdown",
   "metadata": {},
   "source": [
    "## Trained on Length-4 Series"
   ]
  },
  {
   "cell_type": "code",
   "execution_count": 29,
   "metadata": {
    "collapsed": false
   },
   "outputs": [
    {
     "name": "stdout",
     "output_type": "stream",
     "text": [
      "INFO:tensorflow:Restoring parameters from checkpoints/model-series-4/model.ckpt\n"
     ]
    }
   ],
   "source": [
    "ckpts_dir = os.path.join(os.path.dirname(\"__file__\"), 'checkpoints')\n",
    "\n",
    "tf.reset_default_graph()\n",
    "session = tf.InteractiveSession()\n",
    "\n",
    "ncomputer = DNC(\n",
    "    FeedforwardController,\n",
    "    input_size=6,\n",
    "    output_size=6,\n",
    "    max_sequence_length=44,\n",
    "    memory_words_num=10,\n",
    "    memory_word_size=10,\n",
    "    memory_read_heads=1,\n",
    "    batch_size=1\n",
    ")\n",
    "\n",
    "ncomputer.restore(session, ckpts_dir, 'model-series-4')"
   ]
  },
  {
   "cell_type": "code",
   "execution_count": 30,
   "metadata": {
    "collapsed": false
   },
   "outputs": [],
   "source": [
    "outputs, memory_views = ncomputer.get_outputs()\n",
    "squashed_output = tf.sigmoid(outputs)\n",
    "clipped_output = tf.clip_by_value(squashed_output, 1e-6, 1. - 1e-6)\n",
    "\n",
    "loss = binary_cross_entropy(clipped_output, ncomputer.target_output)"
   ]
  },
  {
   "cell_type": "markdown",
   "metadata": {},
   "source": [
    "### Accuracy on Length-4 Series"
   ]
  },
  {
   "cell_type": "code",
   "execution_count": 31,
   "metadata": {
    "collapsed": false
   },
   "outputs": [
    {
     "name": "stdout",
     "output_type": "stream",
     "text": [
      "Avg. Accuracy: 1.0000\n",
      "Avg. Loss: 0.0000\n"
     ]
    }
   ],
   "source": [
    "losses = []\n",
    "matches = []\n",
    "inputs = []\n",
    "outputs = []\n",
    "views = []\n",
    "\n",
    "for i in range(1000):\n",
    "    \n",
    "    in_sequences = []\n",
    "    out_sequences = []\n",
    "    \n",
    "    for k in range(4):\n",
    "        input_data, target_output = generate_data(1, 5, 6)\n",
    "        in_sequences.append(input_data)\n",
    "        out_sequences.append(target_output)\n",
    "    \n",
    "    one_big_input = np.concatenate(in_sequences, axis=1)\n",
    "    one_big_output = np.concatenate(out_sequences, axis=1)\n",
    "\n",
    "    l, o, v = session.run([\n",
    "        loss,\n",
    "        squashed_output,\n",
    "        memory_views\n",
    "    ], feed_dict={\n",
    "        ncomputer.input_data: one_big_input,\n",
    "        ncomputer.target_output: one_big_output,\n",
    "        ncomputer.sequence_length: 44\n",
    "    })\n",
    "    \n",
    "    losses.append(l)\n",
    "    inputs.append(one_big_input)\n",
    "    outputs.append(o)\n",
    "    views.append(v)\n",
    "    matches.append(np.allclose(one_big_output, np.around(o)))\n",
    "\n",
    "print(\"Avg. Accuracy: %.4f\" % (np.mean(matches)))\n",
    "print(\"Avg. Loss: %.4f\" % (np.mean(losses)))"
   ]
  },
  {
   "cell_type": "markdown",
   "metadata": {},
   "source": [
    "### Visualization on Length-4 Series\n",
    "\n",
    "#### Best Run"
   ]
  },
  {
   "cell_type": "code",
   "execution_count": 32,
   "metadata": {
    "collapsed": false
   },
   "outputs": [
    {
     "data": {
      "image/png": "[encoded data removed]",
      "text/plain": [
       "<matplotlib.figure.Figure at 0x7f65b44ef0f0>"
      ]
     },
     "metadata": {},
     "output_type": "display_data"
    }
   ],
   "source": [
    "in_sequences = []\n",
    "out_sequences = []\n",
    "    \n",
    "for k in range(4):\n",
    "    input_data, target_output = generate_data(1, 5, 6)\n",
    "    in_sequences.append(input_data)\n",
    "    out_sequences.append(target_output)\n",
    "    \n",
    "one_big_input = np.concatenate(in_sequences, axis=1)\n",
    "one_big_output = np.concatenate(out_sequences, axis=1)\n",
    "\n",
    "l, o, v = session.run([\n",
    "    loss,\n",
    "    squashed_output,\n",
    "    memory_views\n",
    "], feed_dict={\n",
    "    ncomputer.input_data: one_big_input,\n",
    "    ncomputer.target_output: one_big_output,\n",
    "    ncomputer.sequence_length: 44\n",
    "})\n",
    "\n",
    "visualize_op(one_big_input, o, v)"
   ]
  },
  {
   "cell_type": "markdown",
   "metadata": {},
   "source": [
    "## Generalization and Memory Scalability"
   ]
  },
  {
   "cell_type": "code",
   "execution_count": 17,
   "metadata": {
    "collapsed": false
   },
   "outputs": [],
   "source": [
    "def llprint(message):\n",
    "    sys.stdout.write(message)\n",
    "    sys.stdout.flush()"
   ]
  },
  {
   "cell_type": "code",
   "execution_count": 18,
   "metadata": {
    "collapsed": false
   },
   "outputs": [
    {
     "name": "stdout",
     "output_type": "stream",
     "text": [
      "Finished 0/64INFO:tensorflow:Restoring parameters from checkpoints/model-single-10/model.ckpt\n",
      "Finished 1/64INFO:tensorflow:Restoring parameters from checkpoints/model-single-10/model.ckpt\n",
      "Finished 2/64INFO:tensorflow:Restoring parameters from checkpoints/model-single-10/model.ckpt\n",
      "Finished 3/64INFO:tensorflow:Restoring parameters from checkpoints/model-single-10/model.ckpt\n",
      "Finished 4/64INFO:tensorflow:Restoring parameters from checkpoints/model-single-10/model.ckpt\n",
      "Finished 5/64INFO:tensorflow:Restoring parameters from checkpoints/model-single-10/model.ckpt\n",
      "Finished 6/64INFO:tensorflow:Restoring parameters from checkpoints/model-single-10/model.ckpt\n",
      "Finished 7/64INFO:tensorflow:Restoring parameters from checkpoints/model-single-10/model.ckpt\n",
      "Finished 8/64INFO:tensorflow:Restoring parameters from checkpoints/model-single-10/model.ckpt\n",
      "Finished 9/64INFO:tensorflow:Restoring parameters from checkpoints/model-single-10/model.ckpt\n",
      "Finished 10/64INFO:tensorflow:Restoring parameters from checkpoints/model-single-10/model.ckpt\n",
      "Finished 11/64INFO:tensorflow:Restoring parameters from checkpoints/model-single-10/model.ckpt\n",
      "Finished 12/64INFO:tensorflow:Restoring parameters from checkpoints/model-single-10/model.ckpt\n",
      "Finished 13/64INFO:tensorflow:Restoring parameters from checkpoints/model-single-10/model.ckpt\n",
      "Finished 14/64INFO:tensorflow:Restoring parameters from checkpoints/model-single-10/model.ckpt\n",
      "Finished 15/64INFO:tensorflow:Restoring parameters from checkpoints/model-single-10/model.ckpt\n",
      "Finished 16/64INFO:tensorflow:Restoring parameters from checkpoints/model-single-10/model.ckpt\n",
      "Finished 17/64INFO:tensorflow:Restoring parameters from checkpoints/model-single-10/model.ckpt\n",
      "Finished 18/64INFO:tensorflow:Restoring parameters from checkpoints/model-single-10/model.ckpt\n",
      "Finished 19/64INFO:tensorflow:Restoring parameters from checkpoints/model-single-10/model.ckpt\n",
      "Finished 20/64INFO:tensorflow:Restoring parameters from checkpoints/model-single-10/model.ckpt\n",
      "Finished 21/64INFO:tensorflow:Restoring parameters from checkpoints/model-single-10/model.ckpt\n",
      "Finished 22/64INFO:tensorflow:Restoring parameters from checkpoints/model-single-10/model.ckpt\n",
      "Finished 23/64INFO:tensorflow:Restoring parameters from checkpoints/model-single-10/model.ckpt\n",
      "Finished 24/64INFO:tensorflow:Restoring parameters from checkpoints/model-single-10/model.ckpt\n",
      "Finished 25/64INFO:tensorflow:Restoring parameters from checkpoints/model-single-10/model.ckpt\n",
      "Finished 26/64INFO:tensorflow:Restoring parameters from checkpoints/model-single-10/model.ckpt\n",
      "Finished 27/64INFO:tensorflow:Restoring parameters from checkpoints/model-single-10/model.ckpt\n",
      "Finished 28/64INFO:tensorflow:Restoring parameters from checkpoints/model-single-10/model.ckpt\n",
      "Finished 29/64INFO:tensorflow:Restoring parameters from checkpoints/model-single-10/model.ckpt\n",
      "Finished 30/64INFO:tensorflow:Restoring parameters from checkpoints/model-single-10/model.ckpt\n",
      "Finished 31/64INFO:tensorflow:Restoring parameters from checkpoints/model-single-10/model.ckpt\n",
      "Finished 32/64INFO:tensorflow:Restoring parameters from checkpoints/model-single-10/model.ckpt\n",
      "Finished 33/64INFO:tensorflow:Restoring parameters from checkpoints/model-single-10/model.ckpt\n",
      "Finished 34/64INFO:tensorflow:Restoring parameters from checkpoints/model-single-10/model.ckpt\n",
      "Finished 35/64INFO:tensorflow:Restoring parameters from checkpoints/model-single-10/model.ckpt\n",
      "Finished 36/64INFO:tensorflow:Restoring parameters from checkpoints/model-single-10/model.ckpt\n",
      "Finished 37/64INFO:tensorflow:Restoring parameters from checkpoints/model-single-10/model.ckpt\n",
      "Finished 38/64INFO:tensorflow:Restoring parameters from checkpoints/model-single-10/model.ckpt\n",
      "Finished 39/64INFO:tensorflow:Restoring parameters from checkpoints/model-single-10/model.ckpt\n",
      "Finished 40/64INFO:tensorflow:Restoring parameters from checkpoints/model-single-10/model.ckpt\n",
      "Finished 41/64INFO:tensorflow:Restoring parameters from checkpoints/model-single-10/model.ckpt\n",
      "Finished 42/64INFO:tensorflow:Restoring parameters from checkpoints/model-single-10/model.ckpt\n",
      "Finished 43/64INFO:tensorflow:Restoring parameters from checkpoints/model-single-10/model.ckpt\n",
      "Finished 44/64INFO:tensorflow:Restoring parameters from checkpoints/model-single-10/model.ckpt\n",
      "Finished 45/64INFO:tensorflow:Restoring parameters from checkpoints/model-single-10/model.ckpt\n",
      "Finished 46/64INFO:tensorflow:Restoring parameters from checkpoints/model-single-10/model.ckpt\n",
      "Finished 47/64INFO:tensorflow:Restoring parameters from checkpoints/model-single-10/model.ckpt\n",
      "Finished 48/64INFO:tensorflow:Restoring parameters from checkpoints/model-single-10/model.ckpt\n",
      "Finished 49/64INFO:tensorflow:Restoring parameters from checkpoints/model-single-10/model.ckpt\n",
      "Finished 50/64INFO:tensorflow:Restoring parameters from checkpoints/model-single-10/model.ckpt\n",
      "Finished 51/64INFO:tensorflow:Restoring parameters from checkpoints/model-single-10/model.ckpt\n",
      "Finished 52/64INFO:tensorflow:Restoring parameters from checkpoints/model-single-10/model.ckpt\n",
      "Finished 53/64INFO:tensorflow:Restoring parameters from checkpoints/model-single-10/model.ckpt\n",
      "Finished 54/64INFO:tensorflow:Restoring parameters from checkpoints/model-single-10/model.ckpt\n",
      "Finished 55/64INFO:tensorflow:Restoring parameters from checkpoints/model-single-10/model.ckpt\n",
      "Finished 56/64INFO:tensorflow:Restoring parameters from checkpoints/model-single-10/model.ckpt\n",
      "Finished 57/64INFO:tensorflow:Restoring parameters from checkpoints/model-single-10/model.ckpt\n",
      "Finished 58/64INFO:tensorflow:Restoring parameters from checkpoints/model-single-10/model.ckpt\n",
      "Finished 59/64INFO:tensorflow:Restoring parameters from checkpoints/model-single-10/model.ckpt\n",
      "Finished 60/64INFO:tensorflow:Restoring parameters from checkpoints/model-single-10/model.ckpt\n",
      "Finished 61/64INFO:tensorflow:Restoring parameters from checkpoints/model-single-10/model.ckpt\n",
      "Finished 62/64INFO:tensorflow:Restoring parameters from checkpoints/model-single-10/model.ckpt\n",
      "Finished 63/64INFO:tensorflow:Restoring parameters from checkpoints/model-single-10/model.ckpt\n",
      "Finished 64/64"
     ]
    }
   ],
   "source": [
    "ckpts_dir = os.path.join(os.path.dirname(\"__file__\"), 'checkpoints')\n",
    "\n",
    "word_counts = [10, 15, 20, 25, 30, 35, 40, 45]\n",
    "sequnce_lengthes = [5, 10, 15, 20, 25, 30, 35, 40]\n",
    "\n",
    "pairs = list(itertools.product(word_counts, sequnce_lengthes))\n",
    "fraction_correct = np.zeros((8, 8))\n",
    "count_done = 0\n",
    "\n",
    "llprint(\"Finished 0/64\")\n",
    "\n",
    "for i, seq_size in enumerate(sequnce_lengthes):\n",
    "    for j, mem_size in enumerate(word_counts):\n",
    "        \n",
    "        graph = tf.Graph()\n",
    "        with graph.as_default():\n",
    "            with tf.Session(graph=graph) as session:\n",
    "                \n",
    "                ncomputer = DNC(FeedforwardController, 6, 6, 2 * seq_size + 1, mem_size, 10, 1, 1)\n",
    "                ncomputer.restore(session, ckpts_dir, 'model-single-10')\n",
    "        \n",
    "                output,_ = ncomputer.get_outputs()\n",
    "                squashed_output = tf.sigmoid(output)\n",
    "        \n",
    "                matches = []\n",
    "                for k in range(100):\n",
    "                    input_data, target_output = generate_data(1, seq_size, 6)\n",
    "                    dnc_output = session.run(squashed_output, feed_dict={\n",
    "                        ncomputer.input_data: input_data,\n",
    "                        ncomputer.sequence_length: 2 * seq_size + 1\n",
    "                    })\n",
    "            \n",
    "                    matches.append(np.array_equal(np.around(dnc_output), target_output))\n",
    "        \n",
    "                fraction_correct[i, j] = np.mean(matches)\n",
    "        \n",
    "        count_done += 1\n",
    "        llprint(\"\\rFinished %d/64\" % count_done)"
   ]
  },
  {
   "cell_type": "code",
   "execution_count": 19,
   "metadata": {
    "collapsed": false
   },
   "outputs": [
    {
     "data": {
      "text/plain": [
       "<matplotlib.colorbar.Colorbar at 0x7f65b567c1d0>"
      ]
     },
     "execution_count": 19,
     "metadata": {},
     "output_type": "execute_result"
    },
    {
     "data": {
      "image/png": "[encoded data removed]",
      "text/plain": [
       "<matplotlib.figure.Figure at 0x7f65b5a660f0>"
      ]
     },
     "metadata": {},
     "output_type": "display_data"
    }
   ],
   "source": [
    "fig, ax = plt.subplots()\n",
    "\n",
    "imax = ax.imshow(fraction_correct, cmap=plt.cm.coolwarm)\n",
    "\n",
    "ax.set_ylabel('Sequence Lengths')\n",
    "ax.set_yticks([0, 1, 2, 3, 4, 5, 6, 7])\n",
    "ax.set_yticklabels(['5', '10', '15', '20', '25', '30', '35', '40'])\n",
    "\n",
    "ax.set_xlabel('Memory Locations')\n",
    "ax.set_xticks([0, 1, 2, 3, 4, 5, 6, 7])\n",
    "ax.set_xticklabels(['10', '15', '20', '25', '30', '35', '40', '45'])\n",
    "\n",
    "ax.grid(True)\n",
    "\n",
    "divider = make_axes_locatable(ax)\n",
    "cbar_ax = divider.append_axes(\"right\", size=\"5%\", pad=0.1)\n",
    "\n",
    "fig.colorbar(imax, cax=cbar_ax, ticks=[0, 0.2, 0.4, 0.6, 0.8, 1], label='Fraction Correct')"
   ]
  },
  {
   "cell_type": "code",
   "execution_count": null,
   "metadata": {
    "collapsed": true
   },
   "outputs": [],
   "source": []
  }
 ],
 "metadata": {
  "kernelspec": {
   "display_name": "Python 3",
   "language": "python",
   "name": "python3"
  },
  "language_info": {
   "codemirror_mode": {
    "name": "ipython",
    "version": 3
   },
   "file_extension": ".py",
   "mimetype": "text/x-python",
   "name": "python",
   "nbconvert_exporter": "python",
   "pygments_lexer": "ipython3",
   "version": "3.6.0"
  }
 },
 "nbformat": 4,
 "nbformat_minor": 0
}
